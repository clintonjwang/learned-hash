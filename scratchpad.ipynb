{
 "cells": [
  {
   "cell_type": "code",
   "execution_count": 1,
   "metadata": {},
   "outputs": [],
   "source": [
    "from importlib import reload\n",
    "from PIL import Image\n",
    "import os\n",
    "import numpy as np\n",
    "import torch\n",
    "import pandas as pd\n",
    "nn = torch.nn\n",
    "F = torch.nn.functional\n",
    "\n",
    "import matplotlib.pyplot as plt\n",
    "%matplotlib inline\n",
    "import seaborn as sns\n",
    "\n",
    "# import utils\n",
    "# import train, metrics\n",
    "# from model import *"
   ]
  },
  {
   "cell_type": "code",
   "execution_count": 2,
   "metadata": {},
   "outputs": [
    {
     "name": "stderr",
     "output_type": "stream",
     "text": [
      "Using /home/clintonw/.cache/torch_extensions/py310_cu121 as PyTorch extensions root...\n",
      "Detected CUDA files, patching ldflags\n",
      "Emitting ninja build file /home/clintonw/.cache/torch_extensions/py310_cu121/render_utils_cuda/build.ninja...\n",
      "Building extension module render_utils_cuda...\n",
      "Allowing ninja to set a default number of workers... (overridable by setting the environment variable MAX_JOBS=N)\n"
     ]
    },
    {
     "name": "stdout",
     "output_type": "stream",
     "text": [
      "[1/2] /usr/local/cuda/bin/nvcc  -DTORCH_EXTENSION_NAME=render_utils_cuda -DTORCH_API_INCLUDE_EXTENSION_H -DPYBIND11_COMPILER_TYPE=\\\"_gcc\\\" -DPYBIND11_STDLIB=\\\"_libstdcpp\\\" -DPYBIND11_BUILD_ABI=\\\"_cxxabi1011\\\" -isystem /data/vision/polina/users/clintonw/anaconda3/envs/cuda11/lib/python3.10/site-packages/torch/include -isystem /data/vision/polina/users/clintonw/anaconda3/envs/cuda11/lib/python3.10/site-packages/torch/include/torch/csrc/api/include -isystem /data/vision/polina/users/clintonw/anaconda3/envs/cuda11/lib/python3.10/site-packages/torch/include/TH -isystem /data/vision/polina/users/clintonw/anaconda3/envs/cuda11/lib/python3.10/site-packages/torch/include/THC -isystem /usr/local/cuda/include -isystem /data/vision/polina/users/clintonw/anaconda3/envs/cuda11/include/python3.10 -D_GLIBCXX_USE_CXX11_ABI=0 -D__CUDA_NO_HALF_OPERATORS__ -D__CUDA_NO_HALF_CONVERSIONS__ -D__CUDA_NO_BFLOAT16_CONVERSIONS__ -D__CUDA_NO_HALF2_OPERATORS__ --expt-relaxed-constexpr -gencode=arch=compute_61,code=compute_61 -gencode=arch=compute_61,code=sm_61 --compiler-options '-fPIC' -std=c++17 -c /data/vision/polina/users/clintonw/code/learned-hash/model/cuda/render_utils_kernel.cu -o render_utils_kernel.cuda.o \n",
      "/data/vision/polina/users/clintonw/code/learned-hash/model/cuda/render_utils_kernel.cu: In lambda function:\n",
      "/data/vision/polina/users/clintonw/code/learned-hash/model/cuda/render_utils_kernel.cu:92:122: warning: ‘T* at::Tensor::data() const [with T = double]’ is deprecated: Tensor.data<T>() is deprecated. Please use Tensor.data_ptr<T>() instead. [-Wdeprecated-declarations]\n",
      "   92 |   AT_DISPATCH_FLOATING_TYPES(rays_o.type(), \"infer_t_minmax_cuda\", ([&] {\n",
      "      |                                                                                                                          ^ \n",
      "/data/vision/polina/users/clintonw/anaconda3/envs/cuda11/lib/python3.10/site-packages/torch/include/ATen/core/TensorBody.h:247:1: note: declared here\n",
      "  247 |   T * data() const {\n",
      "      | ^ ~~\n",
      "/data/vision/polina/users/clintonw/code/learned-hash/model/cuda/render_utils_kernel.cu:92:149: warning: ‘T* at::Tensor::data() const [with T = double]’ is deprecated: Tensor.data<T>() is deprecated. Please use Tensor.data_ptr<T>() instead. [-Wdeprecated-declarations]\n",
      "   92 |   AT_DISPATCH_FLOATING_TYPES(rays_o.type(), \"infer_t_minmax_cuda\", ([&] {\n",
      "      |                                                                                                                                                     ^ \n",
      "/data/vision/polina/users/clintonw/anaconda3/envs/cuda11/lib/python3.10/site-packages/torch/include/ATen/core/TensorBody.h:247:1: note: declared here\n",
      "  247 |   T * data() const {\n",
      "      | ^ ~~\n",
      "/data/vision/polina/users/clintonw/code/learned-hash/model/cuda/render_utils_kernel.cu:92:177: warning: ‘T* at::Tensor::data() const [with T = double]’ is deprecated: Tensor.data<T>() is deprecated. Please use Tensor.data_ptr<T>() instead. [-Wdeprecated-declarations]\n",
      "   92 |   AT_DISPATCH_FLOATING_TYPES(rays_o.type(), \"infer_t_minmax_cuda\", ([&] {\n",
      "      |                                                                                                                                                                                 ^ \n",
      "/data/vision/polina/users/clintonw/anaconda3/envs/cuda11/lib/python3.10/site-packages/torch/include/ATen/core/TensorBody.h:247:1: note: declared here\n",
      "  247 |   T * data() const {\n",
      "      | ^ ~~\n",
      "/data/vision/polina/users/clintonw/code/learned-hash/model/cuda/render_utils_kernel.cu:92:205: warning: ‘T* at::Tensor::data() const [with T = double]’ is deprecated: Tensor.data<T>() is deprecated. Please use Tensor.data_ptr<T>() instead. [-Wdeprecated-declarations]\n",
      "   92 |   AT_DISPATCH_FLOATING_TYPES(rays_o.type(), \"infer_t_minmax_cuda\", ([&] {\n",
      "      |                                                                                                                                                                                                             ^ \n",
      "/data/vision/polina/users/clintonw/anaconda3/envs/cuda11/lib/python3.10/site-packages/torch/include/ATen/core/TensorBody.h:247:1: note: declared here\n",
      "  247 |   T * data() const {\n",
      "      | ^ ~~\n",
      "/data/vision/polina/users/clintonw/code/learned-hash/model/cuda/render_utils_kernel.cu:92:250: warning: ‘T* at::Tensor::data() const [with T = double]’ is deprecated: Tensor.data<T>() is deprecated. Please use Tensor.data_ptr<T>() instead. [-Wdeprecated-declarations]\n",
      "   92 |   AT_DISPATCH_FLOATING_TYPES(rays_o.type(), \"infer_t_minmax_cuda\", ([&] {\n",
      "      |                                                                                                                                                                                                                                                          ^ \n",
      "/data/vision/polina/users/clintonw/anaconda3/envs/cuda11/lib/python3.10/site-packages/torch/include/ATen/core/TensorBody.h:247:1: note: declared here\n",
      "  247 |   T * data() const {\n",
      "      | ^ ~~\n",
      "/data/vision/polina/users/clintonw/code/learned-hash/model/cuda/render_utils_kernel.cu:92:276: warning: ‘T* at::Tensor::data() const [with T = double]’ is deprecated: Tensor.data<T>() is deprecated. Please use Tensor.data_ptr<T>() instead. [-Wdeprecated-declarations]\n",
      "   92 |   AT_DISPATCH_FLOATING_TYPES(rays_o.type(), \"infer_t_minmax_cuda\", ([&] {\n",
      "      |                                                                                                                                                                                                                                                                                    ^ \n",
      "/data/vision/polina/users/clintonw/anaconda3/envs/cuda11/lib/python3.10/site-packages/torch/include/ATen/core/TensorBody.h:247:1: note: declared here\n",
      "  247 |   T * data() const {\n",
      "      | ^ ~~\n",
      "/data/vision/polina/users/clintonw/code/learned-hash/model/cuda/render_utils_kernel.cu: In lambda function:\n",
      "/data/vision/polina/users/clintonw/code/learned-hash/model/cuda/render_utils_kernel.cu:92:120: warning: ‘T* at::Tensor::data() const [with T = float]’ is deprecated: Tensor.data<T>() is deprecated. Please use Tensor.data_ptr<T>() instead. [-Wdeprecated-declarations]\n",
      "   92 |   AT_DISPATCH_FLOATING_TYPES(rays_o.type(), \"infer_t_minmax_cuda\", ([&] {\n",
      "      |                                                                                                                        ^ \n",
      "/data/vision/polina/users/clintonw/anaconda3/envs/cuda11/lib/python3.10/site-packages/torch/include/ATen/core/TensorBody.h:247:1: note: declared here\n",
      "  247 |   T * data() const {\n",
      "      | ^ ~~\n",
      "/data/vision/polina/users/clintonw/code/learned-hash/model/cuda/render_utils_kernel.cu:92:146: warning: ‘T* at::Tensor::data() const [with T = float]’ is deprecated: Tensor.data<T>() is deprecated. Please use Tensor.data_ptr<T>() instead. [-Wdeprecated-declarations]\n",
      "   92 |   AT_DISPATCH_FLOATING_TYPES(rays_o.type(), \"infer_t_minmax_cuda\", ([&] {\n",
      "      |                                                                                                                                                  ^ \n",
      "/data/vision/polina/users/clintonw/anaconda3/envs/cuda11/lib/python3.10/site-packages/torch/include/ATen/core/TensorBody.h:247:1: note: declared here\n",
      "  247 |   T * data() const {\n",
      "      | ^ ~~\n",
      "/data/vision/polina/users/clintonw/code/learned-hash/model/cuda/render_utils_kernel.cu:92:173: warning: ‘T* at::Tensor::data() const [with T = float]’ is deprecated: Tensor.data<T>() is deprecated. Please use Tensor.data_ptr<T>() instead. [-Wdeprecated-declarations]\n",
      "   92 |   AT_DISPATCH_FLOATING_TYPES(rays_o.type(), \"infer_t_minmax_cuda\", ([&] {\n",
      "      |                                                                                                                                                                             ^ \n",
      "/data/vision/polina/users/clintonw/anaconda3/envs/cuda11/lib/python3.10/site-packages/torch/include/ATen/core/TensorBody.h:247:1: note: declared here\n",
      "  247 |   T * data() const {\n",
      "      | ^ ~~\n",
      "/data/vision/polina/users/clintonw/code/learned-hash/model/cuda/render_utils_kernel.cu:92:200: warning: ‘T* at::Tensor::data() const [with T = float]’ is deprecated: Tensor.data<T>() is deprecated. Please use Tensor.data_ptr<T>() instead. [-Wdeprecated-declarations]\n",
      "   92 |   AT_DISPATCH_FLOATING_TYPES(rays_o.type(), \"infer_t_minmax_cuda\", ([&] {\n",
      "      |                                                                                                                                                                                                        ^ \n",
      "/data/vision/polina/users/clintonw/anaconda3/envs/cuda11/lib/python3.10/site-packages/torch/include/ATen/core/TensorBody.h:247:1: note: declared here\n",
      "  247 |   T * data() const {\n",
      "      | ^ ~~\n",
      "/data/vision/polina/users/clintonw/code/learned-hash/model/cuda/render_utils_kernel.cu:92:244: warning: ‘T* at::Tensor::data() const [with T = float]’ is deprecated: Tensor.data<T>() is deprecated. Please use Tensor.data_ptr<T>() instead. [-Wdeprecated-declarations]\n",
      "   92 |   AT_DISPATCH_FLOATING_TYPES(rays_o.type(), \"infer_t_minmax_cuda\", ([&] {\n",
      "      |                                                                                                                                                                                                                                                    ^ \n",
      "/data/vision/polina/users/clintonw/anaconda3/envs/cuda11/lib/python3.10/site-packages/torch/include/ATen/core/TensorBody.h:247:1: note: declared here\n",
      "  247 |   T * data() const {\n",
      "      | ^ ~~\n",
      "/data/vision/polina/users/clintonw/code/learned-hash/model/cuda/render_utils_kernel.cu:92:269: warning: ‘T* at::Tensor::data() const [with T = float]’ is deprecated: Tensor.data<T>() is deprecated. Please use Tensor.data_ptr<T>() instead. [-Wdeprecated-declarations]\n",
      "   92 |   AT_DISPATCH_FLOATING_TYPES(rays_o.type(), \"infer_t_minmax_cuda\", ([&] {\n",
      "      |                                                                                                                                                                                                                                                                             ^ \n",
      "/data/vision/polina/users/clintonw/anaconda3/envs/cuda11/lib/python3.10/site-packages/torch/include/ATen/core/TensorBody.h:247:1: note: declared here\n",
      "  247 |   T * data() const {\n",
      "      | ^ ~~\n",
      "/data/vision/polina/users/clintonw/code/learned-hash/model/cuda/render_utils_kernel.cu: In lambda function:\n",
      "/data/vision/polina/users/clintonw/code/learned-hash/model/cuda/render_utils_kernel.cu:111:123: warning: ‘T* at::Tensor::data() const [with T = double]’ is deprecated: Tensor.data<T>() is deprecated. Please use Tensor.data_ptr<T>() instead. [-Wdeprecated-declarations]\n",
      "  111 |   AT_DISPATCH_FLOATING_TYPES(t_min.type(), \"infer_n_samples_cuda\", ([&] {\n",
      "      |                                                                                                                           ^ \n",
      "/data/vision/polina/users/clintonw/anaconda3/envs/cuda11/lib/python3.10/site-packages/torch/include/ATen/core/TensorBody.h:247:1: note: declared here\n",
      "  247 |   T * data() const {\n",
      "      | ^ ~~\n",
      "/data/vision/polina/users/clintonw/code/learned-hash/model/cuda/render_utils_kernel.cu:111:149: warning: ‘T* at::Tensor::data() const [with T = double]’ is deprecated: Tensor.data<T>() is deprecated. Please use Tensor.data_ptr<T>() instead. [-Wdeprecated-declarations]\n",
      "  111 |   AT_DISPATCH_FLOATING_TYPES(t_min.type(), \"infer_n_samples_cuda\", ([&] {\n",
      "      |                                                                                                                                                     ^ \n",
      "/data/vision/polina/users/clintonw/anaconda3/envs/cuda11/lib/python3.10/site-packages/torch/include/ATen/core/TensorBody.h:247:1: note: declared here\n",
      "  247 |   T * data() const {\n",
      "      | ^ ~~\n",
      "/data/vision/polina/users/clintonw/code/learned-hash/model/cuda/render_utils_kernel.cu:111:175: warning: ‘T* at::Tensor::data() const [with T = double]’ is deprecated: Tensor.data<T>() is deprecated. Please use Tensor.data_ptr<T>() instead. [-Wdeprecated-declarations]\n",
      "  111 |   AT_DISPATCH_FLOATING_TYPES(t_min.type(), \"infer_n_samples_cuda\", ([&] {\n",
      "      |                                                                                                                                                                               ^ \n",
      "/data/vision/polina/users/clintonw/anaconda3/envs/cuda11/lib/python3.10/site-packages/torch/include/ATen/core/TensorBody.h:247:1: note: declared here\n",
      "  247 |   T * data() const {\n",
      "      | ^ ~~\n",
      "/data/vision/polina/users/clintonw/code/learned-hash/model/cuda/render_utils_kernel.cu:111:228: warning: ‘T* at::Tensor::data() const [with T = long int]’ is deprecated: Tensor.data<T>() is deprecated. Please use Tensor.data_ptr<T>() instead. [-Wdeprecated-declarations]\n",
      "  111 |   AT_DISPATCH_FLOATING_TYPES(t_min.type(), \"infer_n_samples_cuda\", ([&] {\n",
      "      |                                                                                                                                                                                                                                    ^ \n",
      "/data/vision/polina/users/clintonw/anaconda3/envs/cuda11/lib/python3.10/site-packages/torch/include/ATen/core/TensorBody.h:247:1: note: declared here\n",
      "  247 |   T * data() const {\n",
      "      | ^ ~~\n",
      "/data/vision/polina/users/clintonw/code/learned-hash/model/cuda/render_utils_kernel.cu: In lambda function:\n",
      "/data/vision/polina/users/clintonw/code/learned-hash/model/cuda/render_utils_kernel.cu:111:121: warning: ‘T* at::Tensor::data() const [with T = float]’ is deprecated: Tensor.data<T>() is deprecated. Please use Tensor.data_ptr<T>() instead. [-Wdeprecated-declarations]\n",
      "  111 |   AT_DISPATCH_FLOATING_TYPES(t_min.type(), \"infer_n_samples_cuda\", ([&] {\n",
      "      |                                                                                                                         ^ \n",
      "/data/vision/polina/users/clintonw/anaconda3/envs/cuda11/lib/python3.10/site-packages/torch/include/ATen/core/TensorBody.h:247:1: note: declared here\n",
      "  247 |   T * data() const {\n",
      "      | ^ ~~\n",
      "/data/vision/polina/users/clintonw/code/learned-hash/model/cuda/render_utils_kernel.cu:111:146: warning: ‘T* at::Tensor::data() const [with T = float]’ is deprecated: Tensor.data<T>() is deprecated. Please use Tensor.data_ptr<T>() instead. [-Wdeprecated-declarations]\n",
      "  111 |   AT_DISPATCH_FLOATING_TYPES(t_min.type(), \"infer_n_samples_cuda\", ([&] {\n",
      "      |                                                                                                                                                  ^ \n",
      "/data/vision/polina/users/clintonw/anaconda3/envs/cuda11/lib/python3.10/site-packages/torch/include/ATen/core/TensorBody.h:247:1: note: declared here\n",
      "  247 |   T * data() const {\n",
      "      | ^ ~~\n",
      "/data/vision/polina/users/clintonw/code/learned-hash/model/cuda/render_utils_kernel.cu:111:171: warning: ‘T* at::Tensor::data() const [with T = float]’ is deprecated: Tensor.data<T>() is deprecated. Please use Tensor.data_ptr<T>() instead. [-Wdeprecated-declarations]\n",
      "  111 |   AT_DISPATCH_FLOATING_TYPES(t_min.type(), \"infer_n_samples_cuda\", ([&] {\n",
      "      |                                                                                                                                                                           ^ \n",
      "/data/vision/polina/users/clintonw/anaconda3/envs/cuda11/lib/python3.10/site-packages/torch/include/ATen/core/TensorBody.h:247:1: note: declared here\n",
      "  247 |   T * data() const {\n",
      "      | ^ ~~\n",
      "/data/vision/polina/users/clintonw/code/learned-hash/model/cuda/render_utils_kernel.cu:111:224: warning: ‘T* at::Tensor::data() const [with T = long int]’ is deprecated: Tensor.data<T>() is deprecated. Please use Tensor.data_ptr<T>() instead. [-Wdeprecated-declarations]\n",
      "  111 |   AT_DISPATCH_FLOATING_TYPES(t_min.type(), \"infer_n_samples_cuda\", ([&] {\n",
      "      |                                                                                                                                                                                                                                ^ \n",
      "/data/vision/polina/users/clintonw/anaconda3/envs/cuda11/lib/python3.10/site-packages/torch/include/ATen/core/TensorBody.h:247:1: note: declared here\n",
      "  247 |   T * data() const {\n",
      "      | ^ ~~\n",
      "/data/vision/polina/users/clintonw/code/learned-hash/model/cuda/render_utils_kernel.cu: In lambda function:\n",
      "/data/vision/polina/users/clintonw/code/learned-hash/model/cuda/render_utils_kernel.cu:129:127: warning: ‘T* at::Tensor::data() const [with T = double]’ is deprecated: Tensor.data<T>() is deprecated. Please use Tensor.data_ptr<T>() instead. [-Wdeprecated-declarations]\n",
      "  129 |   AT_DISPATCH_FLOATING_TYPES(rays_o.type(), \"infer_ray_start_dir_cuda\", ([&] {\n",
      "      |                                                                                                                               ^ \n",
      "/data/vision/polina/users/clintonw/anaconda3/envs/cuda11/lib/python3.10/site-packages/torch/include/ATen/core/TensorBody.h:247:1: note: declared here\n",
      "  247 |   T * data() const {\n",
      "      | ^ ~~\n",
      "/data/vision/polina/users/clintonw/code/learned-hash/model/cuda/render_utils_kernel.cu:129:154: warning: ‘T* at::Tensor::data() const [with T = double]’ is deprecated: Tensor.data<T>() is deprecated. Please use Tensor.data_ptr<T>() instead. [-Wdeprecated-declarations]\n",
      "  129 |   AT_DISPATCH_FLOATING_TYPES(rays_o.type(), \"infer_ray_start_dir_cuda\", ([&] {\n",
      "      |                                                                                                                                                          ^ \n",
      "/data/vision/polina/users/clintonw/anaconda3/envs/cuda11/lib/python3.10/site-packages/torch/include/ATen/core/TensorBody.h:247:1: note: declared here\n",
      "  247 |   T * data() const {\n",
      "      | ^ ~~\n",
      "/data/vision/polina/users/clintonw/code/learned-hash/model/cuda/render_utils_kernel.cu:129:180: warning: ‘T* at::Tensor::data() const [with T = double]’ is deprecated: Tensor.data<T>() is deprecated. Please use Tensor.data_ptr<T>() instead. [-Wdeprecated-declarations]\n",
      "  129 |   AT_DISPATCH_FLOATING_TYPES(rays_o.type(), \"infer_ray_start_dir_cuda\", ([&] {\n",
      "      |                                                                                                                                                                                    ^ \n",
      "/data/vision/polina/users/clintonw/anaconda3/envs/cuda11/lib/python3.10/site-packages/torch/include/ATen/core/TensorBody.h:247:1: note: declared here\n",
      "  247 |   T * data() const {\n",
      "      | ^ ~~\n",
      "/data/vision/polina/users/clintonw/code/learned-hash/model/cuda/render_utils_kernel.cu:129:219: warning: ‘T* at::Tensor::data() const [with T = double]’ is deprecated: Tensor.data<T>() is deprecated. Please use Tensor.data_ptr<T>() instead. [-Wdeprecated-declarations]\n",
      "  129 |   AT_DISPATCH_FLOATING_TYPES(rays_o.type(), \"infer_ray_start_dir_cuda\", ([&] {\n",
      "      |                                                                                                                                                                                                                           ^ \n",
      "/data/vision/polina/users/clintonw/anaconda3/envs/cuda11/lib/python3.10/site-packages/torch/include/ATen/core/TensorBody.h:247:1: note: declared here\n",
      "  247 |   T * data() const {\n",
      "      | ^ ~~\n",
      "/data/vision/polina/users/clintonw/code/learned-hash/model/cuda/render_utils_kernel.cu:129:248: warning: ‘T* at::Tensor::data() const [with T = double]’ is deprecated: Tensor.data<T>() is deprecated. Please use Tensor.data_ptr<T>() instead. [-Wdeprecated-declarations]\n",
      "  129 |   AT_DISPATCH_FLOATING_TYPES(rays_o.type(), \"infer_ray_start_dir_cuda\", ([&] {\n",
      "      |                                                                                                                                                                                                                                                        ^ \n",
      "/data/vision/polina/users/clintonw/anaconda3/envs/cuda11/lib/python3.10/site-packages/torch/include/ATen/core/TensorBody.h:247:1: note: declared here\n",
      "  247 |   T * data() const {\n",
      "      | ^ ~~\n",
      "/data/vision/polina/users/clintonw/code/learned-hash/model/cuda/render_utils_kernel.cu: In lambda function:\n",
      "/data/vision/polina/users/clintonw/code/learned-hash/model/cuda/render_utils_kernel.cu:129:125: warning: ‘T* at::Tensor::data() const [with T = float]’ is deprecated: Tensor.data<T>() is deprecated. Please use Tensor.data_ptr<T>() instead. [-Wdeprecated-declarations]\n",
      "  129 |   AT_DISPATCH_FLOATING_TYPES(rays_o.type(), \"infer_ray_start_dir_cuda\", ([&] {\n",
      "      |                                                                                                                             ^ \n",
      "/data/vision/polina/users/clintonw/anaconda3/envs/cuda11/lib/python3.10/site-packages/torch/include/ATen/core/TensorBody.h:247:1: note: declared here\n",
      "  247 |   T * data() const {\n",
      "      | ^ ~~\n",
      "/data/vision/polina/users/clintonw/code/learned-hash/model/cuda/render_utils_kernel.cu:129:151: warning: ‘T* at::Tensor::data() const [with T = float]’ is deprecated: Tensor.data<T>() is deprecated. Please use Tensor.data_ptr<T>() instead. [-Wdeprecated-declarations]\n",
      "  129 |   AT_DISPATCH_FLOATING_TYPES(rays_o.type(), \"infer_ray_start_dir_cuda\", ([&] {\n",
      "      |                                                                                                                                                       ^ \n",
      "/data/vision/polina/users/clintonw/anaconda3/envs/cuda11/lib/python3.10/site-packages/torch/include/ATen/core/TensorBody.h:247:1: note: declared here\n",
      "  247 |   T * data() const {\n",
      "      | ^ ~~\n",
      "/data/vision/polina/users/clintonw/code/learned-hash/model/cuda/render_utils_kernel.cu:129:176: warning: ‘T* at::Tensor::data() const [with T = float]’ is deprecated: Tensor.data<T>() is deprecated. Please use Tensor.data_ptr<T>() instead. [-Wdeprecated-declarations]\n",
      "  129 |   AT_DISPATCH_FLOATING_TYPES(rays_o.type(), \"infer_ray_start_dir_cuda\", ([&] {\n",
      "      |                                                                                                                                                                                ^ \n",
      "/data/vision/polina/users/clintonw/anaconda3/envs/cuda11/lib/python3.10/site-packages/torch/include/ATen/core/TensorBody.h:247:1: note: declared here\n",
      "  247 |   T * data() const {\n",
      "      | ^ ~~\n",
      "/data/vision/polina/users/clintonw/code/learned-hash/model/cuda/render_utils_kernel.cu:129:214: warning: ‘T* at::Tensor::data() const [with T = float]’ is deprecated: Tensor.data<T>() is deprecated. Please use Tensor.data_ptr<T>() instead. [-Wdeprecated-declarations]\n",
      "  129 |   AT_DISPATCH_FLOATING_TYPES(rays_o.type(), \"infer_ray_start_dir_cuda\", ([&] {\n",
      "      |                                                                                                                                                                                                                      ^ \n",
      "/data/vision/polina/users/clintonw/anaconda3/envs/cuda11/lib/python3.10/site-packages/torch/include/ATen/core/TensorBody.h:247:1: note: declared here\n",
      "  247 |   T * data() const {\n",
      "      | ^ ~~\n",
      "/data/vision/polina/users/clintonw/code/learned-hash/model/cuda/render_utils_kernel.cu:129:242: warning: ‘T* at::Tensor::data() const [with T = float]’ is deprecated: Tensor.data<T>() is deprecated. Please use Tensor.data_ptr<T>() instead. [-Wdeprecated-declarations]\n",
      "  129 |   AT_DISPATCH_FLOATING_TYPES(rays_o.type(), \"infer_ray_start_dir_cuda\", ([&] {\n",
      "      |                                                                                                                                                                                                                                                  ^ \n",
      "/data/vision/polina/users/clintonw/anaconda3/envs/cuda11/lib/python3.10/site-packages/torch/include/ATen/core/TensorBody.h:247:1: note: declared here\n",
      "  247 |   T * data() const {\n",
      "      | ^ ~~\n",
      "/data/vision/polina/users/clintonw/code/learned-hash/model/cuda/render_utils_kernel.cu: In function ‘std::vector<at::Tensor> sample_pts_on_rays_cuda(at::Tensor, at::Tensor, at::Tensor, at::Tensor, float, float, float)’:\n",
      "/data/vision/polina/users/clintonw/code/learned-hash/model/cuda/render_utils_kernel.cu:214:139: warning: ‘T* at::Tensor::data() const [with T = long int]’ is deprecated: Tensor.data<T>() is deprecated. Please use Tensor.data_ptr<T>() instead. [-Wdeprecated-declarations]\n",
      "  214 |   __set_1_at_ray_seg_start<<<(n_rays+threads-1)/threads, threads>>>(\n",
      "      |                                                                                                                                           ^ \n",
      "/data/vision/polina/users/clintonw/anaconda3/envs/cuda11/lib/python3.10/site-packages/torch/include/ATen/core/TensorBody.h:247:1: note: declared here\n",
      "  247 |   T * data() const {\n",
      "      | ^ ~~\n",
      "/data/vision/polina/users/clintonw/code/learned-hash/model/cuda/render_utils_kernel.cu:214:177: warning: ‘T* at::Tensor::data() const [with T = long int]’ is deprecated: Tensor.data<T>() is deprecated. Please use Tensor.data_ptr<T>() instead. [-Wdeprecated-declarations]\n",
      "  214 |   __set_1_at_ray_seg_start<<<(n_rays+threads-1)/threads, threads>>>(\n",
      "      |                                                                                                                                                                                 ^ \n",
      "/data/vision/polina/users/clintonw/anaconda3/envs/cuda11/lib/python3.10/site-packages/torch/include/ATen/core/TensorBody.h:247:1: note: declared here\n",
      "  247 |   T * data() const {\n",
      "      | ^ ~~\n",
      "/data/vision/polina/users/clintonw/code/learned-hash/model/cuda/render_utils_kernel.cu:218:132: warning: ‘T* at::Tensor::data() const [with T = long int]’ is deprecated: Tensor.data<T>() is deprecated. Please use Tensor.data_ptr<T>() instead. [-Wdeprecated-declarations]\n",
      "  218 |   __set_step_id<<<(total_len+threads-1)/threads, threads>>>(\n",
      "      |                                                                                                                                    ^ \n",
      "/data/vision/polina/users/clintonw/anaconda3/envs/cuda11/lib/python3.10/site-packages/torch/include/ATen/core/TensorBody.h:247:1: note: declared here\n",
      "  247 |   T * data() const {\n",
      "      | ^ ~~\n",
      "/data/vision/polina/users/clintonw/code/learned-hash/model/cuda/render_utils_kernel.cu:218:162: warning: ‘T* at::Tensor::data() const [with T = long int]’ is deprecated: Tensor.data<T>() is deprecated. Please use Tensor.data_ptr<T>() instead. [-Wdeprecated-declarations]\n",
      "  218 |   __set_step_id<<<(total_len+threads-1)/threads, threads>>>(\n",
      "      |                                                                                                                                                                  ^ \n",
      "/data/vision/polina/users/clintonw/anaconda3/envs/cuda11/lib/python3.10/site-packages/torch/include/ATen/core/TensorBody.h:247:1: note: declared here\n",
      "  247 |   T * data() const {\n",
      "      | ^ ~~\n",
      "/data/vision/polina/users/clintonw/code/learned-hash/model/cuda/render_utils_kernel.cu:218:200: warning: ‘T* at::Tensor::data() const [with T = long int]’ is deprecated: Tensor.data<T>() is deprecated. Please use Tensor.data_ptr<T>() instead. [-Wdeprecated-declarations]\n",
      "  218 |   __set_step_id<<<(total_len+threads-1)/threads, threads>>>(\n",
      "      |                                                                                                                                                                                                        ^ \n",
      "/data/vision/polina/users/clintonw/anaconda3/envs/cuda11/lib/python3.10/site-packages/torch/include/ATen/core/TensorBody.h:247:1: note: declared here\n",
      "  247 |   T * data() const {\n",
      "      | ^ ~~\n",
      "/data/vision/polina/users/clintonw/code/learned-hash/model/cuda/render_utils_kernel.cu: In lambda function:\n",
      "/data/vision/polina/users/clintonw/code/learned-hash/model/cuda/render_utils_kernel.cu:229:163: warning: ‘T* at::Tensor::data() const [with T = double]’ is deprecated: Tensor.data<T>() is deprecated. Please use Tensor.data_ptr<T>() instead. [-Wdeprecated-declarations]\n",
      "  229 |   AT_DISPATCH_FLOATING_TYPES(rays_o.type(), \"sample_pts_on_rays_cuda\", ([&] {\n",
      "      |                                                                                                                                                                   ^ \n",
      "/data/vision/polina/users/clintonw/anaconda3/envs/cuda11/lib/python3.10/site-packages/torch/include/ATen/core/TensorBody.h:247:1: note: declared here\n",
      "  247 |   T * data() const {\n",
      "      | ^ ~~\n",
      "/data/vision/polina/users/clintonw/code/learned-hash/model/cuda/render_utils_kernel.cu:229:192: warning: ‘T* at::Tensor::data() const [with T = double]’ is deprecated: Tensor.data<T>() is deprecated. Please use Tensor.data_ptr<T>() instead. [-Wdeprecated-declarations]\n",
      "  229 |   AT_DISPATCH_FLOATING_TYPES(rays_o.type(), \"sample_pts_on_rays_cuda\", ([&] {\n",
      "      |                                                                                                                                                                                                ^ \n",
      "/data/vision/polina/users/clintonw/anaconda3/envs/cuda11/lib/python3.10/site-packages/torch/include/ATen/core/TensorBody.h:247:1: note: declared here\n",
      "  247 |   T * data() const {\n",
      "      | ^ ~~\n",
      "/data/vision/polina/users/clintonw/code/learned-hash/model/cuda/render_utils_kernel.cu:229:220: warning: ‘T* at::Tensor::data() const [with T = double]’ is deprecated: Tensor.data<T>() is deprecated. Please use Tensor.data_ptr<T>() instead. [-Wdeprecated-declarations]\n",
      "  229 |   AT_DISPATCH_FLOATING_TYPES(rays_o.type(), \"sample_pts_on_rays_cuda\", ([&] {\n",
      "      |                                                                                                                                                                                                                            ^ \n",
      "/data/vision/polina/users/clintonw/anaconda3/envs/cuda11/lib/python3.10/site-packages/torch/include/ATen/core/TensorBody.h:247:1: note: declared here\n",
      "  247 |   T * data() const {\n",
      "      | ^ ~~\n",
      "/data/vision/polina/users/clintonw/code/learned-hash/model/cuda/render_utils_kernel.cu:229:248: warning: ‘T* at::Tensor::data() const [with T = double]’ is deprecated: Tensor.data<T>() is deprecated. Please use Tensor.data_ptr<T>() instead. [-Wdeprecated-declarations]\n",
      "  229 |   AT_DISPATCH_FLOATING_TYPES(rays_o.type(), \"sample_pts_on_rays_cuda\", ([&] {\n",
      "      |                                                                                                                                                                                                                                                        ^ \n",
      "/data/vision/polina/users/clintonw/anaconda3/envs/cuda11/lib/python3.10/site-packages/torch/include/ATen/core/TensorBody.h:247:1: note: decla"
     ]
    }
   ],
   "source": [
    "from torch.utils.cpp_extension import load\n",
    "render_utils_cuda = load(\n",
    "        name='render_utils_cuda',\n",
    "        sources=[\n",
    "            os.path.join('./model', path)\n",
    "            for path in ['cuda/render_utils.cpp', 'cuda/render_utils_kernel.cu']],\n",
    "        verbose=True)"
   ]
  },
  {
   "cell_type": "code",
   "execution_count": null,
   "metadata": {},
   "outputs": [],
   "source": [
    "df = pd.read_csv('results/default.csv', index_col=0)"
   ]
  },
  {
   "cell_type": "code",
   "execution_count": null,
   "metadata": {},
   "outputs": [],
   "source": [
    "sns.lineplot(data=df, x='size', y='psnr', hue='format');"
   ]
  },
  {
   "cell_type": "code",
   "execution_count": null,
   "metadata": {},
   "outputs": [],
   "source": [
    "np.load('results/test.npy', allow_pickle=True).item()"
   ]
  },
  {
   "cell_type": "code",
   "execution_count": 2,
   "metadata": {},
   "outputs": [],
   "source": [
    "image_path = 'data/kodak/3.png'\n",
    "img = np.array(Image.open(image_path)) / 255.\n",
    "batch_size = 240_000"
   ]
  },
  {
   "cell_type": "code",
   "execution_count": null,
   "metadata": {},
   "outputs": [],
   "source": [
    "# @title train baseline\n",
    "reload(utils);\n",
    "n_iters=500\n",
    "R = 8\n",
    "N = 2**10\n",
    "feat_len = 8\n",
    "losses = []\n",
    "model, optimizer = train.init_model(img, model_type='ngp', R=R, N=N, F=feat_len, min_resolution=32, max_resolution=512, resolution_feature_scaler=0.2)\n",
    "torch_img = torch.tensor(img).cuda()\n",
    "for iteration in range(n_iters):\n",
    "    x = torch.rand((batch_size, 2), device='cuda')\n",
    "    loss = ((model(x) - utils.sample_img(torch_img, x))**2).mean()\n",
    "    losses.append(loss.item())\n",
    "    optimizer.zero_grad()\n",
    "    loss.backward()\n",
    "    optimizer.step()\n",
    "    utils.plot(model, losses, img, iteration, plot_every=100)"
   ]
  },
  {
   "cell_type": "code",
   "execution_count": 6,
   "metadata": {},
   "outputs": [
    {
     "name": "stderr",
     "output_type": "stream",
     "text": [
      "tiny-cuda-nn warning: FullyFusedMLP is not supported for the selected architecture 60. Falling back to CutlassMLP. For maximum performance, raise the target GPU architecture to 75+.\n",
      "tiny-cuda-nn warning: FullyFusedMLP is not supported for the selected architecture 60. Falling back to CutlassMLP. For maximum performance, raise the target GPU architecture to 75+.\n"
     ]
    },
    {
     "ename": "",
     "evalue": "",
     "output_type": "error",
     "traceback": [
      "\u001b[1;31mThe Kernel crashed while executing code in the current cell or a previous cell. \n",
      "\u001b[1;31mPlease review the code in the cell(s) to identify a possible cause of the failure. \n",
      "\u001b[1;31mClick <a href='https://aka.ms/vscodeJupyterKernelCrash'>here</a> for more info. \n",
      "\u001b[1;31mView Jupyter <a href='command:jupyter.viewOutput'>log</a> for further details."
     ]
    }
   ],
   "source": [
    "# @title train VQRF\n",
    "reload(train)\n",
    "n_iters = 500\n",
    "N = 2**8\n",
    "feat_len = 4\n",
    "losses = []\n",
    "model, optimizer = train.init_model(img, model_type='vqrf', N=N, F=feat_len)\n",
    "torch_img = torch.tensor(img).cuda()\n",
    "for iteration in range(n_iters):\n",
    "    x = torch.rand((batch_size, 2), device='cuda')\n",
    "    loss = ((model(x) - utils.sample_img(torch_img, x))**2).mean()\n",
    "    losses.append(loss.item())\n",
    "    optimizer.zero_grad()\n",
    "    loss.backward()\n",
    "    optimizer.step()\n",
    "    utils.plot(model, losses, img, iteration, plot_every=100)"
   ]
  },
  {
   "cell_type": "code",
   "execution_count": null,
   "metadata": {},
   "outputs": [],
   "source": []
  },
  {
   "cell_type": "code",
   "execution_count": null,
   "metadata": {},
   "outputs": [],
   "source": []
  },
  {
   "cell_type": "code",
   "execution_count": 10,
   "metadata": {},
   "outputs": [
    {
     "name": "stderr",
     "output_type": "stream",
     "text": [
      "tiny-cuda-nn warning: FullyFusedMLP is not supported for the selected architecture 60. Falling back to CutlassMLP. For maximum performance, raise the target GPU architecture to 75+.\n",
      "tiny-cuda-nn warning: FullyFusedMLP is not supported for the selected architecture 60. Falling back to CutlassMLP. For maximum performance, raise the target GPU architecture to 75+.\n",
      "tiny-cuda-nn warning: FullyFusedMLP is not supported for the selected architecture 60. Falling back to CutlassMLP. For maximum performance, raise the target GPU architecture to 75+.\n",
      "tiny-cuda-nn warning: FullyFusedMLP is not supported for the selected architecture 60. Falling back to CutlassMLP. For maximum performance, raise the target GPU architecture to 75+.\n"
     ]
    }
   ],
   "source": [
    "# @title train Compressed NGP\n",
    "n_iters = 50\n",
    "n_refinement_iters = 50\n",
    "iteration_budget = n_iters + n_refinement_iters\n",
    "R = 8\n",
    "N = 2**10\n",
    "F = 8\n",
    "losses = []\n",
    "model, optimizer = train.init_model(img, model_type='cngp', R=R, N=N, F=F, min_resolution=32, max_resolution=512, resolution_feature_scaler=0.1)\n",
    "torch_img = torch.tensor(img).cuda()\n",
    "for _ in range(n_iters):\n",
    "    loss = ((model.render() - torch_img)**2).mean()\n",
    "    losses.append(loss.item())\n",
    "    optimizer.zero_grad()\n",
    "    loss.backward()\n",
    "    optimizer.step()\n",
    "    utils.plot(model, losses, img, plot_every=100)\n",
    "torch.save({\n",
    "    'model_state_dict': model.state_dict(),\n",
    "    'losses': losses,\n",
    "}, 'tmp.ckpt')\n",
    "for _ in range(n_refinement_iters):\n",
    "    loss = ((model.render() - torch_img)**2).mean()\n",
    "    losses.append(loss.item())\n",
    "    optimizer.zero_grad()\n",
    "    loss.backward()\n",
    "    optimizer.step()\n",
    "    utils.plot(model, losses, img, plot_every=100)\n",
    "render = model.render(compress=True, to_numpy=True)\n",
    "ngp_size = model.get_size()\n",
    "ngp_psnr, ngp_ssim = metrics.psnr(render, img), metrics.ssim(render, img)\n",
    "\n",
    "# compress and refine hash table\n",
    "for buckets_per_feat in (8, 10):\n",
    "    model.hashmap = None\n",
    "    model.hash_features = nn.Parameter(torch.zeros_like(ckpt['model_state_dict']['hash_features']))\n",
    "    ckpt = torch.load('tmp.ckpt')\n",
    "    model.load_state_dict(ckpt['model_state_dict'])\n",
    "    losses = ckpt['losses']\n",
    "    quantized_feats, indices = model.quantize_table(buckets_per_feat)\n",
    "    model.update_hash_feats(quantized_feats, indices)\n",
    "\n",
    "    optimizer = torch.optim.Adam(model.parameters(), lr=1e-3, betas=(.9,.99), eps=1e-15)\n",
    "    for _ in range(n_refinement_iters):\n",
    "        loss = ((model.render() - torch_img)**2).mean()\n",
    "        losses.append(loss.item())\n",
    "        optimizer.zero_grad()\n",
    "        loss.backward()\n",
    "        optimizer.step()\n",
    "        utils.plot(model, losses, img, plot_every=100)\n",
    "    render = model.render(compress=True, to_numpy=True)\n",
    "    cngp_size = model.get_size()\n",
    "    cngp_psnr, cngp_ssim = metrics.psnr(render, img), metrics.ssim(render, img)\n"
   ]
  },
  {
   "cell_type": "code",
   "execution_count": null,
   "metadata": {},
   "outputs": [],
   "source": [
    "N = 2048\n",
    "F = 4\n",
    "n_iters = 1000\n",
    "losses = []\n",
    "plot_every = 100\n",
    "model, optimizer = train.init_model(img, R=4, N=N, F=F, min_resolution=5, max_resolution=40)\n",
    "torch_img = torch.tensor(img).cuda()\n",
    "for iter in range(n_iters):\n",
    "    loss = ((model.render() - torch_img)**2).mean()\n",
    "    losses.append(loss.item())\n",
    "    optimizer.zero_grad()\n",
    "    loss.backward()\n",
    "    optimizer.step()\n",
    "    utils.plot(model, losses, img, plot_every=100)"
   ]
  },
  {
   "cell_type": "code",
   "execution_count": null,
   "metadata": {},
   "outputs": [],
   "source": [
    "reload(train);\n",
    "model, optimizer = train.init_model(img, R=1, N=N, F=F, min_resolution=5, max_resolution=5)"
   ]
  },
  {
   "cell_type": "code",
   "execution_count": 6,
   "metadata": {},
   "outputs": [],
   "source": [
    "coords = model.grid_coords()\n",
    "for rix, res in enumerate(model.resolutions):\n",
    "    x = coords * res\n",
    "    x_ = torch.floor(x).long()\n",
    "    w = x - x_\n",
    "    x,y = x_[..., 0], x_[..., 1]\n",
    "    break"
   ]
  },
  {
   "cell_type": "code",
   "execution_count": null,
   "metadata": {},
   "outputs": [],
   "source": [
    "idx = torch.bitwise_xor(x, 2654435761*y) % self.N"
   ]
  },
  {
   "cell_type": "code",
   "execution_count": 56,
   "metadata": {},
   "outputs": [
    {
     "name": "stdout",
     "output_type": "stream",
     "text": [
      "31.783907975341496 69.0 64.0\n"
     ]
    }
   ],
   "source": [
    "ngp_render = model.render(compress=True, to_numpy=True)\n",
    "ngp_size = model.get_size()\n",
    "ngp_psnr, ngp_ssim = utils.psnr(ngp_render, img), utils.ssim(ngp_render, img)\n",
    "print(ngp_psnr, ngp_size, model.get_hash_size())"
   ]
  },
  {
   "cell_type": "code",
   "execution_count": 57,
   "metadata": {},
   "outputs": [],
   "source": [
    "# @title quantize hash features\n",
    "# model.hash_features = nn.Parameter(old_hash_features)\n",
    "# model.hashmap = None\n",
    "\n",
    "F = model.hash_features.shape[-1]\n",
    "buckets_per_feat=8\n",
    "quantized_feats, indices = model.quantize_table(buckets_per_feat)\n",
    "old_hash_features = model.hash_features.clone()\n",
    "model.update_hash_feats(quantized_feats, indices)"
   ]
  },
  {
   "cell_type": "code",
   "execution_count": 120,
   "metadata": {},
   "outputs": [],
   "source": [
    "reload(ngp);\n",
    "#model.hash_features = nn.Parameter(old_hash_features)\n",
    "F = model.hash_features.shape[-1]\n",
    "buckets_per_feat = round(2**(15/F))\n",
    "quantized_feats, indices = model.quantize_table(buckets_per_feat)\n",
    "old_hash_features = model.hash_features\n",
    "model.update_hash_feats(quantized_feats, indices)"
   ]
  },
  {
   "cell_type": "code",
   "execution_count": 14,
   "metadata": {},
   "outputs": [],
   "source": [
    "model.scatter_entries()"
   ]
  },
  {
   "cell_type": "code",
   "execution_count": null,
   "metadata": {},
   "outputs": [],
   "source": [
    "# @title refine remapped hash features\n",
    "n_iters = 1000\n",
    "plot_every = 100\n",
    "optimizer = torch.optim.Adam(model.parameters(), lr=1e-2, betas=(.9,.99), eps=1e-15)\n",
    "torch_img = torch.tensor(img).cuda()\n",
    "for iter in range(n_iters):\n",
    "    loss = ((model.render() - torch_img)**2).mean()\n",
    "    losses.append(loss.item())\n",
    "    optimizer.zero_grad()\n",
    "    loss.backward()\n",
    "    optimizer.step()\n",
    "    if plot_every and (iter+1) % plot_every == 0:\n",
    "        clear_output(wait=True)\n",
    "        fig, axes = plt.subplots(1,3, figsize=(10, 3), tight_layout=True)\n",
    "        axes[0].imshow(img)\n",
    "        axes[0].set_axis_off()\n",
    "        axes[0].set_title('Ground Truth')\n",
    "        render = model.render(to_numpy=True)\n",
    "        ngp_psnr, ngp_ssim = utils.psnr(render, img), utils.ssim(render, img)\n",
    "        axes[1].imshow(render)\n",
    "        axes[1].set_title(f'NGP ({ngp_psnr:.1f}dB)')\n",
    "        axes[1].set_axis_off()\n",
    "        axes[2].plot(losses)\n",
    "        axes[2].set_ylim(0, 0.01)\n",
    "        axes[2].set_title(f'Training loss')\n",
    "        plt.show()"
   ]
  },
  {
   "cell_type": "code",
   "execution_count": null,
   "metadata": {},
   "outputs": [
    {
     "name": "stdout",
     "output_type": "stream",
     "text": [
      "27.352930934418698 36.75 13.75 16.0\n"
     ]
    }
   ],
   "source": [
    "comp_render = model.render(compress=True, to_numpy=True)\n",
    "cngp_size = model.get_size()\n",
    "cngp_psnr, cngp_ssim = utils.psnr(comp_render, img), utils.ssim(comp_render, img)\n",
    "print(cngp_psnr, cngp_size, model.get_hash_size(), model.get_hashmap_size())"
   ]
  },
  {
   "cell_type": "code",
   "execution_count": 53,
   "metadata": {},
   "outputs": [],
   "source": [
    "# reload(utils)\n",
    "jpg, jpg_size = utils.to_jpg(Image.open(image_path), quality=60)\n",
    "jpg_psnr, jpg_ssim = utils.psnr(jpg, img), utils.ssim(jpg, img)"
   ]
  },
  {
   "cell_type": "code",
   "execution_count": null,
   "metadata": {},
   "outputs": [],
   "source": [
    "fig, axes = plt.subplots(1,4, figsize=(10, 3), tight_layout=True)\n",
    "axes[0].imshow(img)\n",
    "axes[0].set_title('Ground Truth')\n",
    "axes[1].imshow(jpg)\n",
    "axes[1].set_title(f'JPG ({jpg_psnr:.1f}dB, {jpg_size:.1f}kB)')\n",
    "axes[2].imshow(render)\n",
    "axes[2].set_title(f'iNGP ({ngp_psnr:.1f}dB, {ngp_size:.1f}kB)')\n",
    "axes[3].imshow(comp_render)\n",
    "axes[3].set_title(f'Compressed iNGP ({cngp_psnr:.1f}dB, {cngp_size:.1f}kB)')\n",
    "for ax in axes.ravel():\n",
    "    ax.set_axis_off()"
   ]
  },
  {
   "cell_type": "code",
   "execution_count": null,
   "metadata": {},
   "outputs": [],
   "source": [
    "counts = torch.zeros(model.hash_features.shape[0]).cuda()\n",
    "means = torch.zeros(model.hash_features.shape[0]).cuda()\n",
    "M2 = torch.zeros(model.hash_features.shape[0]).cuda()\n",
    "\n",
    "pixelwise_diffs = ((model.render() - torch_img)**2).mean(axis=-1).flatten()\n",
    "\n",
    "for iteration in range(1000):#range(pixelwise_diffs.shape[0]):\n",
    "    if (iteration+1) % 100 == 0:\n",
    "        print(iteration+1)\n",
    "    pixel = np.random.randint(0, pixelwise_diffs.shape[0])\n",
    "    optimizer.zero_grad()\n",
    "    pixelwise_diffs[pixel].backward(retain_graph=True)\n",
    "    grad = torch.linalg.norm(model.hash_features.grad, dim=1)\n",
    "    nonzero = grad != 0\n",
    "    newvalue = grad[nonzero]\n",
    "    counts[nonzero] += 1\n",
    "    delta = newvalue - means[nonzero]\n",
    "    means[nonzero] += delta / counts[nonzero]\n",
    "    delta2 = newvalue - means[nonzero]\n",
    "    M2[nonzero] += delta * delta2"
   ]
  },
  {
   "cell_type": "code",
   "execution_count": 124,
   "metadata": {},
   "outputs": [],
   "source": [
    "variances = M2 / (counts - 1)\n",
    "threshold = np.nanpercentile(variances.cpu().numpy(), 60)\n",
    "high_var_mask = variances > threshold"
   ]
  },
  {
   "cell_type": "code",
   "execution_count": 126,
   "metadata": {},
   "outputs": [],
   "source": [
    "buckets_per_feat = round(2**(12/F))\n",
    "new_hash_features, new_indices = ngp.quantize_table(model.hash_features[high_var_mask], buckets_per_feat)\n",
    "N_old = model.hash_features.shape[0]\n",
    "N_new = new_hash_features.shape[0]\n",
    "hash_feats = torch.cat((model.hash_features[~indices], new_hash_features))\n",
    "new_hashmap = model.hashmap.clone()\n"
   ]
  },
  {
   "cell_type": "code",
   "execution_count": null,
   "metadata": {},
   "outputs": [],
   "source": [
    "for i in range(N_old):\n",
    "    if high_var_mask[i]:\n",
    "        new_hashmap[new_indices[i]] = model.hashmap[i]\n",
    "    else:\n",
    "        new_hashmap = model.hashmap[]"
   ]
  },
  {
   "cell_type": "code",
   "execution_count": null,
   "metadata": {},
   "outputs": [],
   "source": [
    "# @title plot NGP features\n",
    "H,W = model.shape\n",
    "x = torch.stack(torch.meshgrid(torch.linspace(0,1,H), torch.linspace(0,1,W), indexing='ij'), -1).reshape(-1,2)\n",
    "feats = model.bilerp_hash(x)\n",
    "feats = feats.reshape(H,W,-1)\n",
    "feats = feats.detach().numpy()\n",
    "feats = (feats - feats.min()) / (feats.max() - feats.min())"
   ]
  },
  {
   "cell_type": "code",
   "execution_count": null,
   "metadata": {},
   "outputs": [],
   "source": [
    "r,c = 3,3\n",
    "fig, axes = plt.subplots(r,c, figsize=(5, 3.5), tight_layout=True)\n",
    "for i in range(R):\n",
    "    rgb = np.stack((feats[...,i*2], feats[...,i*2+1], feats[...,i*2]), -1)\n",
    "    axes[i//c, i%c].imshow(rgb)\n",
    "    axes[i//c, i%c].set_axis_off()"
   ]
  },
  {
   "cell_type": "code",
   "execution_count": null,
   "metadata": {},
   "outputs": [],
   "source": [
    "# fig, axes = plt.subplots(1,2, figsize=(7, 3), tight_layout=True)\n",
    "# axes[0].imshow(img)\n",
    "# axes[0].set_title('Ground Truth')\n",
    "# axes[1].imshow(jpg)\n",
    "# axes[1].set_title(f'JPG (PSNR={jpg_psnr:.1f}, Size={jpg_size:.1f}kB)')\n",
    "# for ax in axes.ravel():\n",
    "#     ax.set_axis_off()"
   ]
  },
  {
   "cell_type": "code",
   "execution_count": null,
   "metadata": {},
   "outputs": [],
   "source": [
    "results = pd.read_csv('results.csv', index_col=0)\n",
    "results.head()"
   ]
  }
 ],
 "metadata": {
  "kernelspec": {
   "display_name": "cuda11",
   "language": "python",
   "name": "python3"
  },
  "language_info": {
   "codemirror_mode": {
    "name": "ipython",
    "version": 3
   },
   "file_extension": ".py",
   "mimetype": "text/x-python",
   "name": "python",
   "nbconvert_exporter": "python",
   "pygments_lexer": "ipython3",
   "version": "3.10.3"
  }
 },
 "nbformat": 4,
 "nbformat_minor": 2
}
